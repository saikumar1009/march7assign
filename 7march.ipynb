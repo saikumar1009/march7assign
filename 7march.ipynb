{
 "cells": [
  {
   "cell_type": "markdown",
   "id": "e487ff5c",
   "metadata": {},
   "source": [
    "#Q1. What are the three measures of central tendency?\n",
    "Measures of central tendency help you find the middle, or the average, of a dataset. The 3 most common measures of central tendency are the mode, median, and mean.\n",
    "(1)Mode: the most frequent value.t’s possible to have no mode, one mode, or more than one mode.The mode is most applicable to data from a nominal level of measurement.\n",
    "(2)Median: the middle number in an ordered dataset.The median of a dataset is the value that’s exactly in the middle when it is ordered from low to high.\n",
    "(3)Mean: the sum of all values divided by the total number of values.The arithmetic mean of a dataset  is the sum of all values divided by the total number of values."
   ]
  },
  {
   "cell_type": "markdown",
   "id": "f48841c5",
   "metadata": {},
   "source": [
    "#Q2. What is the difference between the mean, median, and mode? How are they used to measure the central tendency of a dataset?\n",
    "\n",
    "Measures of central tendency help you find the middle, or the average, of a dataset. The 3 most common measures of central tendency are the mode, median, and mean.\n",
    "(1)Mode: the most frequent value.t’s possible to have no mode, one mode, or more than one mode.The mode is most applicable to data from a nominal level of measurement. Nominal data is classified into mutually exclusive categories, so the mode tells you the most popular category.To find the mode, sort your dataset numerically or categorically and select the response that occurs most frequently.\n",
    "(2)Median: the middle number in an ordered dataset.The median of a dataset is the value that’s exactly in the middle when it is ordered from low to high.\n",
    "(3)Mean: the sum of all values divided by the total number of values.The arithmetic mean of a dataset (which is different from the geometric mean) is the sum of all values divided by the total number of values. It’s the most commonly used measure of central tendency because all values are used in the calculation."
   ]
  },
  {
   "cell_type": "code",
   "execution_count": 2,
   "id": "3e9834ff",
   "metadata": {},
   "outputs": [
    {
     "name": "stdout",
     "output_type": "stream",
     "text": [
      "mean: 177.01875\n",
      "median: 177.0\n",
      "mode: ModeResult(mode=array([177.]), count=array([3]))\n"
     ]
    }
   ],
   "source": [
    "#Q3. Measure the three measures of central tendency for the given height data:\n",
    "#[178,177,176,177,178.2,178,175,179,180,175,178.9,176.2,177,172.5,178,176.5]\n",
    "import numpy as np\n",
    "from scipy import stats\n",
    "l=[178,177,176,177,178.2,178,175,179,180,175,178.9,176.2,177,172.5,178,176.5]\n",
    "print(\"mean:\",np.mean(l))\n",
    "print(\"median:\",np.median(l))\n",
    "print(\"mode:\",stats.mode(l))"
   ]
  },
  {
   "cell_type": "code",
   "execution_count": 3,
   "id": "7e4f67a0",
   "metadata": {},
   "outputs": [
    {
     "name": "stdout",
     "output_type": "stream",
     "text": [
      "standard deviation: 1.7885814036548633\n"
     ]
    }
   ],
   "source": [
    "#Q4. Find the standard deviation for the given data:\n",
    "#[178,177,176,177,178.2,178,175,179,180,175,178.9,176.2,177,172.5,178,176.5]\n",
    "l=[178,177,176,177,178.2,178,175,179,180,175,178.9,176.2,177,172.5,178,176.5]\n",
    "print(\"standard deviation:\",np.std(l))"
   ]
  },
  {
   "cell_type": "markdown",
   "id": "3a0ce89c",
   "metadata": {},
   "source": [
    "#Q5. How are measures of dispersion such as range, variance, and standard deviation used to describe\n",
    "the spread of a dataset? Provide an example.\n",
    "Measures of dispersion describe the spread of the data. They include the range, interquartile range, standard deviation and variance. \n",
    "(!).The range is given as the smallest and largest observations. This is the simplest measure of variability.ote in statistics (unlike physics) a range is given by two numbers, not the difference between the smallest and largest. For some data it is very useful, because one would want to know these numbers, for example knowing in a sample the ages of youngest and oldest participant. \n",
    "range of given observations: 32, 41, 28, 54, 35, 26, 23, 33, 38, 40.\n",
    "Range (X) = Max (X) – Min (X)\n",
    "= 54 – 23\n",
    "= 31\n",
    "(2).Quartiles and Interquartile Range\n",
    "The quartiles, namely the lower quartile, the median and the upper quartile, divide the data into four equal parts; that is there will be approximately equal numbers of observations in the four sections (and exactly equal if the sample size is divisible by four and the measures are all distinct).\n",
    "(3).Variance\n",
    "The variance is a measure of variability that represents on how far each observation falls from the mean of the distribution.\n",
    "Let’s calculate the variance of the follow data set: 2, 7, 3, 12, 9.\n",
    "The squared differences for all values are added:\n",
    "21.16 + 0.16 + 12.96 + 29.16 + 5.76 = 69.20\n",
    "The sum is then divided by the number of data points:\n",
    "69.20 ÷5 = 13.84\n",
    "The variance is 13.84. To get the standard deviation, you calculate the square root of the variance, which is 3.72.\n",
    "(4).Standard Deviation\n",
    "However, one limitation to using the variance as our only measure of variability. When we square the numbers to get rid of the negatives (step 3), we also inadvertently square our unit of measurement. In other words, if we were talking about miles, we accidentally turned our unit of measurement into miles squared.for the below values [178,177,176,177,178.2,178,175,179,180,175,178.9,176.2,177,172]\n",
    "standard deviation: 1.7885814036548633"
   ]
  },
  {
   "cell_type": "markdown",
   "id": "7899b22b",
   "metadata": {},
   "source": [
    "#Q6. What is a Venn diagram?\n",
    "A Venn diagram is an illustration that uses circles to show the relationships among things or finite groups of things. Circles that overlap have a commonality while circles that do not overlap do not share those traits.\n",
    "Venn diagrams help to visually represent the similarities and differences between two concepts. They have long been recognized for their usefulness as educational tools. Since the mid-20th century, Venn diagrams have been used as part of the introductory logic curriculum and in elementary-level educational plans around the world.\n",
    "A Venn diagram uses circles that overlap or don't overlap to show the commonalities and differences among things or groups of things.\n",
    "Things that have commonalities are shown as overlapping circles while things that are distinct stand alone.\n",
    "Venn diagrams are now used as illustrations in business and in many academic fields."
   ]
  },
  {
   "cell_type": "markdown",
   "id": "326745d7",
   "metadata": {},
   "source": [
    "#Q7. For the two given sets A = (2,3,4,5,6,7) & B = (0,2,6,8,10). Find:\n",
    "(i) A∩B\n",
    "here intersection of two set gives common elements.\n",
    "Therefore A∩B =(2,6)\n",
    "(ii) A ⋃ B\n",
    "here Union of two sets give the set with all values and consider common values only once\n",
    "Therefore, A ⋃ B=(2,3,4,5,6,7,0,8,10)"
   ]
  },
  {
   "cell_type": "markdown",
   "id": "e01523f9",
   "metadata": {},
   "source": [
    "#Q8. What do you understand about skewness in data?\n",
    "Skewness is a measurement of the distortion of symmetrical distribution or asymmetry in a data set. Skewness is demonstrated on a bell curve when data points are not distributed symmetrically to the left and right sides of the median on a bell curve. If the bell curve is shifted to the left or the right, it is said to be skewed.\n",
    "1.Skewness, in statistics, is the degree of asymmetry observed in a probability distribution.\n",
    "2.Distributions can exhibit right (positive) skewness or left (negative) skewness to varying degrees. A normal distribution (bell curve) exhibits zero skewness.\n",
    "3.Investors note right-skewness when judging a return distribution because it, like excess kurtosis, better represents the extremes of the data set rather than focusing solely on the average.\n",
    "4.Skewness informs users of the direction of outliers, though it does not tell users the number of outliers."
   ]
  },
  {
   "cell_type": "markdown",
   "id": "cedc2b25",
   "metadata": {},
   "source": [
    "#Q9. If a data is right skewed then what will be the position of median with respect to mean?\n",
    "The mean of positively skewed data will be greater than the median.When the distribution is skewed to the right, the mean is often greater than the median. In symmetric distributions, we expect the mean and median to be approximately equal in value. This is an important connection between the shape of the distribution and the relationship of the mean and median.\n",
    "In case of a positively skewed frequency distribution, the mean is always greater than median and the median is always greater than the mode.\n",
    "mean>median>mode is the relation of mean,median,mode of right skewed."
   ]
  },
  {
   "cell_type": "markdown",
   "id": "230fb413",
   "metadata": {},
   "source": [
    "#Q10. Explain the difference between covariance and correlation. How are these measures used in\n",
    "statistical analysis?\n",
    "Covariance \n",
    "1.Covariance is an indicator of the extent to which 2 random variables are dependent on each other. A higher number denotes higher dependency.\n",
    "2.The value of covariance lies in the range of -∞ and +∞.\n",
    "3.Change in scale Affects covariance\n",
    "4.No Unit-free measure\n",
    "5.The greater this number, the more reliant the relationship. Positive covariance denotes a direct relationship and is represented by a positive number.\n",
    "A negative number, on the other hand, denotes negative covariance, which indicates an inverse relationship between the two variables. Covariance is great for defining the type of relationship, but it's terrible for interpreting the magnitude.\n",
    "Correlation\n",
    "1.correlationis a measure that determines the degree to which two or more random variables move in sequence. When an equivalent movement of another variable reciprocates the movement of one variable in some way or another during the study of two variables, the variables are said to be correlated. \n",
    "2.Correlation is limited to values between the range -1 and +1\n",
    "3.Change in scale does not affect the correlation\n",
    "4.Positive correlation occurs when two variables move in the same direction. When variables move in the opposite direction, they are said to be negatively correlated."
   ]
  },
  {
   "cell_type": "markdown",
   "id": "bdfc321e",
   "metadata": {},
   "source": [
    "#Q11. What is the formula for calculating the sample mean? Provide an example calculation for a dataset.\n",
    "Sample Mean = (Sum of terms) ÷ (Number of Terms)=∑xi/n\n",
    "the sample mean of 60, 57, 109, 50\n",
    "Sum of terms = 60 + 57 + 109 + 50 = 276\n",
    "Number of terms = 4\n",
    "Using sample mean formula,\n",
    "mean = (sum of terms)/(number of terms)\n",
    "mean = 276/4 = 69\n",
    "Answer: The sample mean of 60, 57, 109, 50 is  69."
   ]
  },
  {
   "cell_type": "code",
   "execution_count": 7,
   "id": "ebcb38e5",
   "metadata": {},
   "outputs": [
    {
     "name": "stdout",
     "output_type": "stream",
     "text": [
      "mean: 5.843333333333335\n"
     ]
    }
   ],
   "source": [
    "import seaborn as sns\n",
    "import numpy as np\n",
    "iris=sns.load_dataset('iris')\n",
    "print('mean:',np.mean(iris['sepal_length']))"
   ]
  },
  {
   "cell_type": "markdown",
   "id": "d744a2eb",
   "metadata": {},
   "source": [
    "#Q12. For a normal distribution data what is the relationship between its measure of central tendency?\n",
    "Any normal distribution has a graph that is perfectly symmetric about a vertical line through its peak. Therefore, all measures of central tendency (most commonly, the mean, median, and mode) give the same answer: the x-value of the peak.\n",
    "The three common measures of central tendency of a distribution are the arithmetic mean, the median and the mode. Think of a distribution in terms of an histogram with many bars; a large sample from a normal distribution would describe a bell shaped curve that is symmetrical.\n",
    "mean=median=mode are the relation of measure of central tendency for a normal distribution.The normal distribution is a bell-shaped, symmetrical distribution in which the mean, median and mode are all equal. If the mean, median and mode are unequal, the distribution will be either positively or negatively skewed"
   ]
  },
  {
   "cell_type": "markdown",
   "id": "46ac0210",
   "metadata": {},
   "source": [
    "#Q13. How is covariance different from correlation?\n",
    "Covariance \n",
    "1.Covariance is an indicator of the extent to which 2 random variables are dependent on each other. A higher number denotes higher dependency.\n",
    "2.The value of covariance lies in the range of -∞ and +∞.\n",
    "3.Change in scale Affects covariance\n",
    "4.No Unit-free measure\n",
    "Correlation\n",
    "1.correlationis a measure that determines the degree to which two or more random variables move in sequence. When an equivalent movement of another variable reciprocates the movement of one variable in some way or another during the study of two variables, the variables are said to be correlated. \n",
    "2.Correlation is limited to values between the range -1 and +1\n",
    "3.Change in scale does not affect the correlation"
   ]
  },
  {
   "cell_type": "markdown",
   "id": "ba53b17e",
   "metadata": {},
   "source": [
    "#Q14. How do outliers affect measures of central tendency and dispersion? Provide an example.\n",
    "Measures of central tendency are mean, median and mode.Outliers affect the mean value of the data but have little effect on\n",
    "the median or mode of a given set of data.\n",
    "Ten students take an exam and receive the following scores:\n",
    "[0, 88, 90, 92, 94, 95, 95, 96, 97, 99]\n",
    "The mean score is 84.6.\n",
    "However, if we remove the “0” score from the dataset, then the mean score becomes 94.\n",
    "Median: since the data set has 10 values, there are two middle\n",
    "numbers, so one must find the mean of these two values, 85 and\n",
    "90.\n",
    "l=[0, 70, 70, 80, 85, 90, 90, 90, 95, 100]\n",
    "87.5\n",
    "Mode: The score 90 occurs more frequently than the other\n",
    "values (three times), so 90 is the mode.\n",
    "Receiving a zero on a quiz significantly affects a student’s mean,\n",
    "or average. Notice that the outlier had a small effect on the\n",
    "median and mode of the data.Receiving a zero on a quiz significantly affects a student’s mean,\n",
    "or average. Notice that the outlier had a small effect on the\n",
    "median and mode of the data.\n",
    "It should be noted that because outliers affect the mean and have little effect on the median, the median is often used to describe “average” income. Often, one hears that the median income for a group is a certain value. Mean is not typically used because outliers, people who make significantly more or make no money at all, affect this measure. "
   ]
  }
 ],
 "metadata": {
  "kernelspec": {
   "display_name": "Python 3 (ipykernel)",
   "language": "python",
   "name": "python3"
  },
  "language_info": {
   "codemirror_mode": {
    "name": "ipython",
    "version": 3
   },
   "file_extension": ".py",
   "mimetype": "text/x-python",
   "name": "python",
   "nbconvert_exporter": "python",
   "pygments_lexer": "ipython3",
   "version": "3.9.12"
  }
 },
 "nbformat": 4,
 "nbformat_minor": 5
}
